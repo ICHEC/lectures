{
 "cells": [
  {
   "cell_type": "markdown",
   "id": "8de0543f",
   "metadata": {},
   "source": [
    "# MyQLM Bell State"
   ]
  },
  {
   "cell_type": "code",
   "execution_count": 1,
   "id": "ad586331",
   "metadata": {},
   "outputs": [
    {
     "name": "stderr",
     "output_type": "stream",
     "text": [
      "UsageError: Line magic function `%qatdisplay` not found.\n"
     ]
    }
   ],
   "source": [
    "from qat.lang.AQASM import Program, H, CNOT\n",
    "\n",
    "# Create a Program\n",
    "qprog = Program()\n",
    "# Number of qbits\n",
    "nbqbits = 2\n",
    "# Allocate some qbits\n",
    "qbits = qprog.qalloc(nbqbits)\n",
    "\n",
    "# Apply some quantum Gates\n",
    "qprog.apply(H, qbits[0]) \n",
    "qprog.apply(CNOT, qbits[0], qbits[1])\n",
    "\n",
    "# Export this program into a quantum circuit\n",
    "circuit = qprog.to_circ()\n",
    "# And display it!\n",
    "%qatdisplay circuit"
   ]
  },
  {
   "cell_type": "code",
   "execution_count": 2,
   "id": "32914a33",
   "metadata": {},
   "outputs": [
    {
     "name": "stdout",
     "output_type": "stream",
     "text": [
      "State |00> amplitude (0.7071067811865475+0j) Probability 0.4999999999999999\n",
      "State |11> amplitude (0.7071067811865475+0j) Probability 0.4999999999999999\n"
     ]
    }
   ],
   "source": [
    "# import one Quantum Processor Unit Factory\n",
    "from qat.qpus import PyLinalg\n",
    "\n",
    "# Create a Quantum Processor Unit\n",
    "pylinalgqpu = PyLinalg()\n",
    "\n",
    "# Create a job\n",
    "job = circuit.to_job()\n",
    "\n",
    "# Submit the job to the QPU\n",
    "result = pylinalgqpu.submit(job)\n",
    "\n",
    "# Iterate over the final state vector to get all final components\n",
    "for sample in result:\n",
    "    print(\"State %s amplitude %s Probability %s\" % (sample.state, sample.amplitude, sample.probability))"
   ]
  },
  {
   "cell_type": "code",
   "execution_count": 3,
   "id": "5ba83938",
   "metadata": {},
   "outputs": [
    {
     "name": "stdout",
     "output_type": "stream",
     "text": [
      "We measured the state |00> (its probability is 0.4736328125 and its amplitude None)\n",
      "We measured the state |11> (its probability is 0.5263671875 and its amplitude None)\n"
     ]
    }
   ],
   "source": [
    "# Create a job where we specify the number of shots\n",
    "job = circuit.to_job(nbshots=1024)\n",
    "\n",
    "# Submit to the QPU\n",
    "result = pylinalgqpu.submit(job)\n",
    "\n",
    "# And use it to draw 10 samples\n",
    "for sample in result:\n",
    "    print(\"We measured the state {} (its probability is {} and its amplitude {})\".format(sample.state, sample.probability, sample.amplitude))"
   ]
  }
 ],
 "metadata": {
  "kernelspec": {
   "display_name": "Python 3 (ipykernel)",
   "language": "python",
   "name": "python3"
  },
  "language_info": {
   "codemirror_mode": {
    "name": "ipython",
    "version": 3
   },
   "file_extension": ".py",
   "mimetype": "text/x-python",
   "name": "python",
   "nbconvert_exporter": "python",
   "pygments_lexer": "ipython3",
   "version": "3.9.14"
  }
 },
 "nbformat": 4,
 "nbformat_minor": 5
}
