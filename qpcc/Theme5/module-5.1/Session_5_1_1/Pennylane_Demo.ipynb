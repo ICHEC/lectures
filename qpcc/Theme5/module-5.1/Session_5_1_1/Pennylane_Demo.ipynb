{
 "cells": [
  {
   "cell_type": "markdown",
   "id": "003b1335",
   "metadata": {},
   "source": [
    "# Pennlyane Bell State"
   ]
  },
  {
   "cell_type": "code",
   "execution_count": 2,
   "id": "d8395de2",
   "metadata": {},
   "outputs": [],
   "source": [
    "import pennylane as qml\n",
    "from pennylane import numpy as np\n",
    "\n",
    "import matplotlib.pyplot as plt"
   ]
  },
  {
   "cell_type": "markdown",
   "id": "1f38473b",
   "metadata": {},
   "source": [
    "- Set up a Pennylane device.\n",
    "    - Set wires=2, for two qubits.\n",
    "    - Set the desired number of shots for the experiment."
   ]
  },
  {
   "cell_type": "code",
   "execution_count": 3,
   "id": "1b1d030b",
   "metadata": {},
   "outputs": [],
   "source": [
    "dev = qml.device(\"default.qubit\", wires=2, shots=1024)"
   ]
  },
  {
   "cell_type": "markdown",
   "id": "6eff8189",
   "metadata": {},
   "source": [
    "- Define a quantum node on this device.\n",
    "\n",
    "    - Apply a Hadamard to the first qubit. \n",
    "\n",
    "    - Apply a CNOT, targeting the second qubit.\n",
    "\n",
    "    - Measure the two qubits "
   ]
  },
  {
   "cell_type": "code",
   "execution_count": 4,
   "id": "2d5b71c7",
   "metadata": {},
   "outputs": [],
   "source": [
    "@qml.qnode(dev)\n",
    "def circuit():\n",
    "    qml.Hadamard(wires=0)\n",
    "    qml.CNOT(wires=[0, 1])\n",
    "    return qml.sample(qml.PauliZ(0)), qml.sample(qml.PauliZ(1))"
   ]
  },
  {
   "cell_type": "markdown",
   "id": "4a590d0c",
   "metadata": {},
   "source": [
    "- Sample returns eigenvalues instead of state labels. So 1 corresonds to state |0> and -1 corresponds to state |1>"
   ]
  },
  {
   "cell_type": "code",
   "execution_count": 5,
   "id": "c2efafa4",
   "metadata": {},
   "outputs": [
    {
     "name": "stdout",
     "output_type": "stream",
     "text": [
      "[[-1  1  1 ...  1  1 -1]\n",
      " [-1  1  1 ...  1  1 -1]]\n"
     ]
    }
   ],
   "source": [
    "result = circuit()\n",
    "print(result)"
   ]
  },
  {
   "cell_type": "markdown",
   "id": "82f0a082",
   "metadata": {},
   "source": [
    "- Plot the eigenvalues on a histogram"
   ]
  },
  {
   "cell_type": "code",
   "execution_count": 7,
   "id": "7fb830d0",
   "metadata": {},
   "outputs": [
    {
     "data": {
      "image/png": "[encoded data removed]",
      "text/plain": [
       "<Figure size 432x288 with 1 Axes>"
      ]
     },
     "metadata": {
      "needs_background": "light"
     },
     "output_type": "display_data"
    }
   ],
   "source": [
    "plt.hist((result[0]+result[1])//2, facecolor='g')\n",
    "\n",
    "plt.xlabel('Eigenvalue')\n",
    "plt.ylabel('Probability')\n",
    "plt.title('Bell State')\n",
    "\n",
    "plt.show()"
   ]
  }
 ],
 "metadata": {
  "kernelspec": {
   "display_name": "Python 3 (ipykernel)",
   "language": "python",
   "name": "python3"
  },
  "language_info": {
   "codemirror_mode": {
    "name": "ipython",
    "version": 3
   },
   "file_extension": ".py",
   "mimetype": "text/x-python",
   "name": "python",
   "nbconvert_exporter": "python",
   "pygments_lexer": "ipython3",
   "version": "3.9.13"
  }
 },
 "nbformat": 4,
 "nbformat_minor": 5
}
