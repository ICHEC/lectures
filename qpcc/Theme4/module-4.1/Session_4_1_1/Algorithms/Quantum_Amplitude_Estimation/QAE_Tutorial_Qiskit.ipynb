{
 "cells": [
  {
   "cell_type": "markdown",
   "id": "c380c707",
   "metadata": {},
   "source": [
    "# Quantum Amplitude Estimation\n",
    "\n",
    "## The Problem: Searching an unsorted list for a recognisable element or elements\n",
    "\n",
    "## Tools: \n",
    "- Oracle Gate\n",
    "- Diffuser Gate"
   ]
  },
  {
   "cell_type": "code",
   "execution_count": null,
   "id": "526d8452",
   "metadata": {},
   "outputs": [],
   "source": []
  }
 ],
 "metadata": {
  "kernelspec": {
   "display_name": "Python 3 (ipykernel)",
   "language": "python",
   "name": "python3"
  },
  "language_info": {
   "codemirror_mode": {
    "name": "ipython",
    "version": 3
   },
   "file_extension": ".py",
   "mimetype": "text/x-python",
   "name": "python",
   "nbconvert_exporter": "python",
   "pygments_lexer": "ipython3",
   "version": "3.9.6"
  }
 },
 "nbformat": 4,
 "nbformat_minor": 5
}
